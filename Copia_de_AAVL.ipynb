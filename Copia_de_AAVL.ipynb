{
  "nbformat": 4,
  "nbformat_minor": 0,
  "metadata": {
    "colab": {
      "provenance": [],
      "toc_visible": true,
      "collapsed_sections": [],
      "authorship_tag": "ABX9TyNT3VJEO76N0pq1Ld55sABF",
      "include_colab_link": true
    },
    "kernelspec": {
      "name": "python3",
      "display_name": "Python 3"
    },
    "language_info": {
      "name": "python"
    }
  },
  "cells": [
    {
      "cell_type": "markdown",
      "metadata": {
        "id": "view-in-github",
        "colab_type": "text"
      },
      "source": [
        "<a href=\"https://colab.research.google.com/github/MarcoR7890/ManejoDatos/blob/main/Copia_de_AAVL.ipynb\" target=\"_parent\"><img src=\"https://colab.research.google.com/assets/colab-badge.svg\" alt=\"Open In Colab\"/></a>"
      ]
    },
    {
      "cell_type": "markdown",
      "source": [
        "# Árboles Binarios Balanceados\n"
      ],
      "metadata": {
        "id": "4ktX6dYoh8c4"
      }
    },
    {
      "cell_type": "code",
      "source": [
        "!wget https://raw.githubusercontent.com/jugernaut/ManejoDatos/desarrollo/AlgoritmosBusqueda/ArbolesBinarios.ipynb\n",
        "!wget https://raw.githubusercontent.com/jugernaut/ManejoDatos/desarrollo/AlgoritmosBusqueda/ArbolesBinariosBusqueda.ipynb\n",
        "!wget https://raw.githubusercontent.com/jugernaut/ManejoDatos/desarrollo/AlgoritmosBusqueda/ArbolesBalanceados.ipynb\n",
        "!pip install import-ipynb"
      ],
      "metadata": {
        "id": "PX8kgq0jilv_"
      },
      "execution_count": null,
      "outputs": []
    },
    {
      "cell_type": "code",
      "source": [
        "import import_ipynb\n",
        "from ArbolesBinariosBusqueda import ABB\n",
        "from ArbolesBinarios import Nodo\n",
        "from ArbolesBalanceados import ArbolAVL"
      ],
      "metadata": {
        "id": "4HRgWmoujCNe"
      },
      "execution_count": null,
      "outputs": []
    },
    {
      "cell_type": "markdown",
      "source": [
        "**1. Genera un ArbolAVL, insertando los siguientes elementos [15, 10, 5, 16, 17, 9, 20] y muestra el resultado (una imágen).**\n"
      ],
      "metadata": {
        "id": "FouIkfK8pAx-"
      }
    },
    {
      "cell_type": "markdown",
      "source": [
        "<center>\n",
        "<img src=\"https://github.com/MarcoR7890/ManejoDatos/blob/main/Primerarbol.jpg?raw=true\" width=\"500\"> \n",
        "</center>"
      ],
      "metadata": {
        "id": "jPHNgFfLovhK"
      }
    },
    {
      "cell_type": "markdown",
      "source": [
        " **2. Eliminar el valor 9, explica cada paso de manera detallada que se requiere para eliminar este valor.**\n",
        "\n",
        "*   Primero buscamos el nodo con el valor 9 en el árbol. Para esto comparamos el 9 con el dato en la raíz, como 9 es menor que 10, nos desplazamos al hijo izquierdo de la raíz.\n",
        "*  Comparamos el 9 con el hijo izquierdo de la raíz, como 9 es mayor que 5, nos desplazamos al hijo derecho del hijo izquierdo de la raíz\n",
        "*   Comparamos el 9 con el hijo derecho del hijo izquierdo de la raíz, como el valor 9 es igual al dato contenido en este nodo entonces ya lozalizamos al nodo que contiene este valor.\n",
        "*   Una vez encontrado, como el nodo con el valor 9 no tiene hijos simplemente lo eliminamos y nos vamos al padre de este nodo para saber si este subárbol esta balanceado. \n",
        "*   Como el nodo con valor 5 no tiene hijos entonces ya esta balanceado\n",
        "*   Ahora nos pasamos al **nodo** con valor 10, como FE(**nodo**) = 4-2 = 2 y FE(**nodo.izq**) = 1 - 0 = 1, entonces se hace una rotación simple izquierda. y como llegamos a la raíz entonces el árbol ya estaria balanceado. \n",
        "\n",
        "<center>\n",
        "<img src=\"https://github.com/MarcoR7890/ManejoDatos/blob/main/Eliminar%20el%209.gif?raw=true\" width=\"700\"> \n",
        "</center>\n",
        "\n",
        "\n",
        "\n",
        "\n",
        "\n",
        "\n",
        "\n",
        "\n"
      ],
      "metadata": {
        "id": "SLtmLeR3pePl"
      }
    },
    {
      "cell_type": "markdown",
      "source": [
        " **3. Eliminar el valor 16, explica cada paso de manera detallada que se requiere para eliminar este valor.**\n",
        "\n",
        "\n",
        "*   Primero buscamos el nodo con valor 16. Para esto comparamos el 16 con el valor en la raíz, como 16 es mayor que 10, nos desplazamos al hijo derecho de la raíz. \n",
        "*   Comparamos al 16 con el hijo derecho de la raíz, como son iguales entonces ya encontramos al nodo buscado. \n",
        "*   Como el nodo con valor 16 tienen ambos hijos entramos al caso 2.4), así que buscamos el mínimo del subárbol derecho y tenemos que es el nodo con valor 17. \n",
        "*   Eliminamos el nodo con valor 16 y ponemos en su lugar el nodo con valor 17.\n",
        "*   Tenemos que la altura del hijo izquierdo del nodo con valor 17 es 1 y la altura del hijo derecho del nodo con valor 17 es 1 así que $$1-1=0$$ Por lo que aquí ya esta balanceado.\n",
        "*   Ahora nos pasamos al nodo raíz tenemos que la altura del hijo izquierdo de la raíz es 2 y la altura del hijo derecho de la raíz es 2 y como $$2 -2 = 0$$ Entonces el árbol completo ya está balanceado. \n",
        "\n",
        "\n",
        "<center>\n",
        "<img src=\"https://github.com/MarcoR7890/ManejoDatos/blob/main/Eliminar%20el%2016.1.gif?raw=true\" width=\"700\"> \n",
        "</center>\n",
        "\n",
        "\n",
        "\n",
        "\n"
      ],
      "metadata": {
        "id": "XmMXy5G_8i_x"
      }
    },
    {
      "cell_type": "markdown",
      "source": [
        "** 4. Insertar 1, explica cada paso de manera detallada que se requiere para insertar este valor.**\n",
        "\n",
        "\n",
        "*   Comparamos el 1 con el valor en la raíz, como el 10 es mayor que el 1, nos desplzamos hacia el hijo izquierdo de la raíz. \n",
        "*   Comparamos el 1 con el hijo izquierdo de la raíz,  como el 1 es menor que el 5 y además el nodo con valor 5 no tiene hijo izquierdo entonces insertamos el 1 como hijo izquierdo del nodo con valor 5. \n",
        "*   Ahora checamos que el subárbol que tiene como raíz el nodo con valor 5 esté balanceado. Como la altura del hijo izquierdo y la altura del hijo derecho son las mismas entonces esté subárbol ya está balanceado.\n",
        "*   Ahora nos pasamos a la raíz con valor 10, tenemos que la altura del hijo izquierdo es 2 y la altura del hijo derecho es 3 y como $$3 - 2 = 1$$\n",
        "Entonces el árbol completo ya esta balanceado. \n",
        "\n",
        "<center>\n",
        "<img src=\"https://github.com/MarcoR7890/ManejoDatos/blob/main/Insertar%20el%201.1.gif?raw=true\" width=\"700\"> \n",
        "</center>\n",
        "\n"
      ],
      "metadata": {
        "id": "lfn30V6CC4J0"
      }
    },
    {
      "cell_type": "markdown",
      "source": [
        "**5. Después de haber realizado los puntos anteriores, muestra el resultado de recorrer el ABB en: Inorden, Preorden, Postorden.**\n",
        "* Inorden: 1, 5, 10, 15, 17, 20 \n",
        "* Preorden: 10, 5, 1, 17, 15, 20 \n",
        "* Postorden: 1, 5, 15, 20, 17, 10"
      ],
      "metadata": {
        "id": "-BpYx5AoFeNa"
      }
    },
    {
      "cell_type": "code",
      "source": [
        "def main():\n",
        "  aavl = ArbolAVL(15)\n",
        "  aavl.insertar(10)\n",
        "  aavl.insertar(5)\n",
        "  aavl.insertar(16)\n",
        "  aavl.insertar(17)\n",
        "  aavl.insertar(9)\n",
        "  aavl.insertar(20) \n",
        "  aavl.borra(9)  \n",
        "  aavl.borra(16)\n",
        "  aavl.insertar(1)\n",
        "  \n",
        "  print(\"Recorrido en orden\")\n",
        "  aavl.recorrido_enorden(aavl.raiz)\n",
        "  print(\"Recorrido en preorden\")\n",
        "  aavl.recorrido_preorden(aavl.raiz)\n",
        "  print(\"Recorrido en postorden\")\n",
        "  aavl.recorrido_postorden(aavl.raiz)\n",
        "  \n",
        "  \n",
        "if __name__ == \"__main__\":\n",
        "  # llamamos a la funcion main\n",
        "  main()"
      ],
      "metadata": {
        "colab": {
          "base_uri": "https://localhost:8080/"
        },
        "id": "bGBXq_XhJfRq",
        "outputId": "349cadb0-a8b8-4ad6-efcf-c15a873dfd08"
      },
      "execution_count": null,
      "outputs": [
        {
          "output_type": "stream",
          "name": "stdout",
          "text": [
            "Recorrido en orden\n",
            "1\n",
            "5\n",
            "10\n",
            "15\n",
            "17\n",
            "20\n",
            "Recorrido en preorden\n",
            "10\n",
            "5\n",
            "1\n",
            "17\n",
            "15\n",
            "20\n",
            "Recorrido en postorden\n",
            "1\n",
            "5\n",
            "15\n",
            "20\n",
            "17\n",
            "10\n"
          ]
        }
      ]
    },
    {
      "cell_type": "markdown",
      "source": [
        "##Análisis \n",
        "\n",
        "\n",
        "*   Eliminar árbol: No existe el peor caso para este tipo de árboles ya que para eliminarlos basta con eliminar la raíz. Así que $$O(n) = 1$$\n",
        "*   Buscar: El peor caso \n",
        "\n"
      ],
      "metadata": {
        "id": "4S8Bi2i0PtPs"
      }
    },
    {
      "cell_type": "code",
      "source": [],
      "metadata": {
        "id": "HThiu7l1QsT0"
      },
      "execution_count": null,
      "outputs": []
    }
  ]
}